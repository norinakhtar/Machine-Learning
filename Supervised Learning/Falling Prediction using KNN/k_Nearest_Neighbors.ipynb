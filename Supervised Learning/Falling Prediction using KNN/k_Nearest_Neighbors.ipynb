{
  "nbformat": 4,
  "nbformat_minor": 0,
  "metadata": {
    "colab": {
      "provenance": []
    },
    "kernelspec": {
      "name": "python3",
      "display_name": "Python 3"
    },
    "language_info": {
      "name": "python"
    }
  },
  "cells": [
    {
      "cell_type": "markdown",
      "source": [
        "**k-Nearest-Neighbors (k-NN)**"
      ],
      "metadata": {
        "id": "aERGY-j3ge6k"
      }
    },
    {
      "cell_type": "markdown",
      "source": [
        "# calculate the Euclidean distance between two vectors\n",
        "#     Euclidean Distance = sqrt(sum i to N (x1_i – x2_i)^2)\n"
      ],
      "metadata": {
        "id": "ZUFjwgRigCTk"
      }
    },
    {
      "cell_type": "code",
      "execution_count": 27,
      "metadata": {
        "id": "0uU2L45CcYIi"
      },
      "outputs": [],
      "source": [
        "# calculate the Euclidean distance between two vectors\n",
        "from math import sqrt\n",
        "def euclidean_distance(row1, row2):\n",
        " distance = 0.0\n",
        " for i in range(len(row1)-1):\n",
        "   return sqrt(distance)"
      ]
    },
    {
      "cell_type": "markdown",
      "source": [
        "Locate the most similar neighbors\n",
        "\n",
        "Result\n",
        "  [6,5,7,5,6,7,1],\n",
        "\n",
        "   [5,6,6,6,5,7,1],\n",
        "\n",
        "  [7,6,7,6,5,6,1]]\n"
      ],
      "metadata": {
        "id": "Qjyc8j2ef_Cd"
      }
    },
    {
      "cell_type": "code",
      "source": [
        "def get_neighbors(train, test_row, num_neighbors):\n",
        "  distances = list()\n",
        "  for train_row in train:\n",
        "    dist = euclidean_distance(test_row, train_row)\n",
        "    distances.append((train_row, dist))\n",
        "    distances.sort(key=lambda tup: tup[1])\n",
        "  neighbors = list()\n",
        "  for i in range(num_neighbors):\n",
        "    \tneighbors.append(distances[i][0])\n",
        "  return neighbors\n"
      ],
      "metadata": {
        "id": "WtDJULsLdVi_"
      },
      "execution_count": 21,
      "outputs": []
    },
    {
      "cell_type": "markdown",
      "source": [
        "\n",
        "# Make a classification prediction with neighbors.\n",
        "# - test_row is row 0\n",
        "# - num_neighbors is 3\n"
      ],
      "metadata": {
        "id": "VYnADbMYgQIu"
      }
    },
    {
      "cell_type": "code",
      "source": [
        "def predict_classification(train, test_row, num_neighbors):\n",
        "  neighbors = get_neighbors(train, test_row,  num_neighbors)\n",
        "  output_values = [row[-1] for row in neighbors]\n",
        "  prediction = max(set(output_values), key=output_values.count)\n",
        "  return prediction\n"
      ],
      "metadata": {
        "id": "YeJmk-29d8iW"
      },
      "execution_count": 22,
      "outputs": []
    },
    {
      "cell_type": "code",
      "source": [
        "dataset =  [[7,6,5,5,6,7,1],\n",
        "                 [1,2,3,2,1,3,0],\n",
        "\t      [2,1,3,3,1,2,0],\n",
        "                 [1,1,2,3,2,2,0],\n",
        "        \t      [2,2,3,3,2,1,0],\n",
        "        \t       [6,5,7,5,6,7,1],\n",
        "        \t       [5,6,6,6,5,7,1],\n",
        "        \t        [5,6,7,5,7,6,1],\n",
        "        \t       [7,6,7,6,5,6,1]]"
      ],
      "metadata": {
        "id": "Xzp0dL4meQFZ"
      },
      "execution_count": 23,
      "outputs": []
    },
    {
      "cell_type": "markdown",
      "source": [
        "# Test distance function, Using the given data set"
      ],
      "metadata": {
        "id": "NFxupg_3gYU7"
      }
    },
    {
      "cell_type": "code",
      "source": [
        "# Calculate euclidean_distance\n",
        "print(\"Euclidean distance between two vectors\")\n",
        "for i in range(1,len(dataset)):\n",
        "\tprint(euclidean_distance(dataset[0],dataset[i]))\n",
        "# row 0 (i.e., dataset[0]) is the one to be predicted\n",
        "prediction = predict_classification(dataset, dataset[0], 3)\n",
        "# - dataset[0][-1] is the last element of row 0 of dataset\n",
        "# - Display\n",
        "#    Expected 1, Got 1.\n",
        "print('Expected %d, Got %d.' % (dataset[0][-1], prediction))\n"
      ],
      "metadata": {
        "colab": {
          "base_uri": "https://localhost:8080/"
        },
        "id": "r5wZibPxedKH",
        "outputId": "b7ad59bb-79ce-4b56-a877-9c88221dceae"
      },
      "execution_count": 24,
      "outputs": [
        {
          "output_type": "stream",
          "name": "stdout",
          "text": [
            "Euclidean distance between two vectors\n",
            "10.295630140987\n",
            "10.392304845413264\n",
            "10.723805294763608\n",
            "10.04987562112089\n",
            "2.449489742783178\n",
            "2.6457513110645907\n",
            "3.1622776601683795\n",
            "2.6457513110645907\n",
            "Expected 1, Got 1.\n"
          ]
        }
      ]
    },
    {
      "cell_type": "markdown",
      "source": [],
      "metadata": {
        "id": "RnBPn3MHf7GI"
      }
    }
  ]
}