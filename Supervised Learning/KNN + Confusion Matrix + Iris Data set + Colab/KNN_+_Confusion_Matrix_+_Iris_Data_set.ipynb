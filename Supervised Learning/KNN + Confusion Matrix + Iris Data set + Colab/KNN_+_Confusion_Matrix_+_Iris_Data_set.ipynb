{
  "nbformat": 4,
  "nbformat_minor": 0,
  "metadata": {
    "colab": {
      "provenance": []
    },
    "kernelspec": {
      "name": "python3",
      "display_name": "Python 3"
    },
    "language_info": {
      "name": "python"
    }
  },
  "cells": [
    {
      "cell_type": "markdown",
      "source": [
        "**kNN on Iris Dataset**\n",
        "----Norina Akhtar"
      ],
      "metadata": {
        "id": "CLA0nkZoFtFI"
      }
    },
    {
      "cell_type": "code",
      "execution_count": null,
      "metadata": {
        "id": "x8BQE-zTESDn"
      },
      "outputs": [],
      "source": [
        "#importing the required libraries\n",
        "import pandas as pd\n",
        "import numpy as np\n",
        "import operator\n",
        "import matplotlib.pyplot as plt"
      ]
    },
    {
      "cell_type": "code",
      "source": [
        "# uplaod file from local drive\n",
        "from google.colab import files\n",
        "uploaded = files.upload()"
      ],
      "metadata": {
        "colab": {
          "base_uri": "https://localhost:8080/",
          "height": 74
        },
        "id": "6Elmjn9kGY0b",
        "outputId": "23463805-84f0-42e9-d067-a02afd298ec0"
      },
      "execution_count": null,
      "outputs": [
        {
          "output_type": "display_data",
          "data": {
            "text/plain": [
              "<IPython.core.display.HTML object>"
            ],
            "text/html": [
              "\n",
              "     <input type=\"file\" id=\"files-1bfbcbfb-360e-4d5d-8d40-24c1da3ee33f\" name=\"files[]\" multiple disabled\n",
              "        style=\"border:none\" />\n",
              "     <output id=\"result-1bfbcbfb-360e-4d5d-8d40-24c1da3ee33f\">\n",
              "      Upload widget is only available when the cell has been executed in the\n",
              "      current browser session. Please rerun this cell to enable.\n",
              "      </output>\n",
              "      <script>// Copyright 2017 Google LLC\n",
              "//\n",
              "// Licensed under the Apache License, Version 2.0 (the \"License\");\n",
              "// you may not use this file except in compliance with the License.\n",
              "// You may obtain a copy of the License at\n",
              "//\n",
              "//      http://www.apache.org/licenses/LICENSE-2.0\n",
              "//\n",
              "// Unless required by applicable law or agreed to in writing, software\n",
              "// distributed under the License is distributed on an \"AS IS\" BASIS,\n",
              "// WITHOUT WARRANTIES OR CONDITIONS OF ANY KIND, either express or implied.\n",
              "// See the License for the specific language governing permissions and\n",
              "// limitations under the License.\n",
              "\n",
              "/**\n",
              " * @fileoverview Helpers for google.colab Python module.\n",
              " */\n",
              "(function(scope) {\n",
              "function span(text, styleAttributes = {}) {\n",
              "  const element = document.createElement('span');\n",
              "  element.textContent = text;\n",
              "  for (const key of Object.keys(styleAttributes)) {\n",
              "    element.style[key] = styleAttributes[key];\n",
              "  }\n",
              "  return element;\n",
              "}\n",
              "\n",
              "// Max number of bytes which will be uploaded at a time.\n",
              "const MAX_PAYLOAD_SIZE = 100 * 1024;\n",
              "\n",
              "function _uploadFiles(inputId, outputId) {\n",
              "  const steps = uploadFilesStep(inputId, outputId);\n",
              "  const outputElement = document.getElementById(outputId);\n",
              "  // Cache steps on the outputElement to make it available for the next call\n",
              "  // to uploadFilesContinue from Python.\n",
              "  outputElement.steps = steps;\n",
              "\n",
              "  return _uploadFilesContinue(outputId);\n",
              "}\n",
              "\n",
              "// This is roughly an async generator (not supported in the browser yet),\n",
              "// where there are multiple asynchronous steps and the Python side is going\n",
              "// to poll for completion of each step.\n",
              "// This uses a Promise to block the python side on completion of each step,\n",
              "// then passes the result of the previous step as the input to the next step.\n",
              "function _uploadFilesContinue(outputId) {\n",
              "  const outputElement = document.getElementById(outputId);\n",
              "  const steps = outputElement.steps;\n",
              "\n",
              "  const next = steps.next(outputElement.lastPromiseValue);\n",
              "  return Promise.resolve(next.value.promise).then((value) => {\n",
              "    // Cache the last promise value to make it available to the next\n",
              "    // step of the generator.\n",
              "    outputElement.lastPromiseValue = value;\n",
              "    return next.value.response;\n",
              "  });\n",
              "}\n",
              "\n",
              "/**\n",
              " * Generator function which is called between each async step of the upload\n",
              " * process.\n",
              " * @param {string} inputId Element ID of the input file picker element.\n",
              " * @param {string} outputId Element ID of the output display.\n",
              " * @return {!Iterable<!Object>} Iterable of next steps.\n",
              " */\n",
              "function* uploadFilesStep(inputId, outputId) {\n",
              "  const inputElement = document.getElementById(inputId);\n",
              "  inputElement.disabled = false;\n",
              "\n",
              "  const outputElement = document.getElementById(outputId);\n",
              "  outputElement.innerHTML = '';\n",
              "\n",
              "  const pickedPromise = new Promise((resolve) => {\n",
              "    inputElement.addEventListener('change', (e) => {\n",
              "      resolve(e.target.files);\n",
              "    });\n",
              "  });\n",
              "\n",
              "  const cancel = document.createElement('button');\n",
              "  inputElement.parentElement.appendChild(cancel);\n",
              "  cancel.textContent = 'Cancel upload';\n",
              "  const cancelPromise = new Promise((resolve) => {\n",
              "    cancel.onclick = () => {\n",
              "      resolve(null);\n",
              "    };\n",
              "  });\n",
              "\n",
              "  // Wait for the user to pick the files.\n",
              "  const files = yield {\n",
              "    promise: Promise.race([pickedPromise, cancelPromise]),\n",
              "    response: {\n",
              "      action: 'starting',\n",
              "    }\n",
              "  };\n",
              "\n",
              "  cancel.remove();\n",
              "\n",
              "  // Disable the input element since further picks are not allowed.\n",
              "  inputElement.disabled = true;\n",
              "\n",
              "  if (!files) {\n",
              "    return {\n",
              "      response: {\n",
              "        action: 'complete',\n",
              "      }\n",
              "    };\n",
              "  }\n",
              "\n",
              "  for (const file of files) {\n",
              "    const li = document.createElement('li');\n",
              "    li.append(span(file.name, {fontWeight: 'bold'}));\n",
              "    li.append(span(\n",
              "        `(${file.type || 'n/a'}) - ${file.size} bytes, ` +\n",
              "        `last modified: ${\n",
              "            file.lastModifiedDate ? file.lastModifiedDate.toLocaleDateString() :\n",
              "                                    'n/a'} - `));\n",
              "    const percent = span('0% done');\n",
              "    li.appendChild(percent);\n",
              "\n",
              "    outputElement.appendChild(li);\n",
              "\n",
              "    const fileDataPromise = new Promise((resolve) => {\n",
              "      const reader = new FileReader();\n",
              "      reader.onload = (e) => {\n",
              "        resolve(e.target.result);\n",
              "      };\n",
              "      reader.readAsArrayBuffer(file);\n",
              "    });\n",
              "    // Wait for the data to be ready.\n",
              "    let fileData = yield {\n",
              "      promise: fileDataPromise,\n",
              "      response: {\n",
              "        action: 'continue',\n",
              "      }\n",
              "    };\n",
              "\n",
              "    // Use a chunked sending to avoid message size limits. See b/62115660.\n",
              "    let position = 0;\n",
              "    do {\n",
              "      const length = Math.min(fileData.byteLength - position, MAX_PAYLOAD_SIZE);\n",
              "      const chunk = new Uint8Array(fileData, position, length);\n",
              "      position += length;\n",
              "\n",
              "      const base64 = btoa(String.fromCharCode.apply(null, chunk));\n",
              "      yield {\n",
              "        response: {\n",
              "          action: 'append',\n",
              "          file: file.name,\n",
              "          data: base64,\n",
              "        },\n",
              "      };\n",
              "\n",
              "      let percentDone = fileData.byteLength === 0 ?\n",
              "          100 :\n",
              "          Math.round((position / fileData.byteLength) * 100);\n",
              "      percent.textContent = `${percentDone}% done`;\n",
              "\n",
              "    } while (position < fileData.byteLength);\n",
              "  }\n",
              "\n",
              "  // All done.\n",
              "  yield {\n",
              "    response: {\n",
              "      action: 'complete',\n",
              "    }\n",
              "  };\n",
              "}\n",
              "\n",
              "scope.google = scope.google || {};\n",
              "scope.google.colab = scope.google.colab || {};\n",
              "scope.google.colab._files = {\n",
              "  _uploadFiles,\n",
              "  _uploadFilesContinue,\n",
              "};\n",
              "})(self);\n",
              "</script> "
            ]
          },
          "metadata": {}
        },
        {
          "output_type": "stream",
          "name": "stdout",
          "text": [
            "Saving iris.csv to iris.csv\n"
          ]
        }
      ]
    },
    {
      "cell_type": "code",
      "source": [
        "import io\n",
        "data = pd.read_csv(io.BytesIO(uploaded['iris.csv']))\n",
        "print(data)"
      ],
      "metadata": {
        "colab": {
          "base_uri": "https://localhost:8080/"
        },
        "id": "53clh2RQG9TE",
        "outputId": "50b97f68-f775-4e98-84fd-cb0bc85c2a79"
      },
      "execution_count": null,
      "outputs": [
        {
          "output_type": "stream",
          "name": "stdout",
          "text": [
            "     sepal.length  sepal.width  petal.length  petal.width    variety\n",
            "0             5.1          3.5           1.4          0.2     Setosa\n",
            "1             4.9          3.0           1.4          0.2     Setosa\n",
            "2             4.7          3.2           1.3          0.2     Setosa\n",
            "3             4.6          3.1           1.5          0.2     Setosa\n",
            "4             5.0          3.6           1.4          0.2     Setosa\n",
            "..            ...          ...           ...          ...        ...\n",
            "145           6.7          3.0           5.2          2.3  Virginica\n",
            "146           6.3          2.5           5.0          1.9  Virginica\n",
            "147           6.5          3.0           5.2          2.0  Virginica\n",
            "148           6.2          3.4           5.4          2.3  Virginica\n",
            "149           5.9          3.0           5.1          1.8  Virginica\n",
            "\n",
            "[150 rows x 5 columns]\n"
          ]
        }
      ]
    },
    {
      "cell_type": "markdown",
      "source": [
        "***part a***\n",
        "\n",
        "---\n",
        "\n",
        "\n",
        "Dividing the dataset as development and test."
      ],
      "metadata": {
        "id": "Rfms8RggHm18"
      }
    },
    {
      "cell_type": "code",
      "source": [
        "#randomize the indices\n",
        "indices = np.random.permutation(data.shape[0])\n",
        "div = int(0.75 * len(indices))\n",
        "development_id, test_id = indices[:div], indices[div:]\n",
        "#dividing the dataset using randomized indices\n",
        "development_set, test_set = data.loc[development_id,:], data.loc[test_id,:]\n",
        "print(\"Development Set:\\n\", development_set, \"\\n\\nTest Set:\\n\", test_set)\n",
        "mean_development_set = development_set.mean(numeric_only=True)\n",
        "mean_test_set = test_set.mean(numeric_only=True)\n",
        "std_development_set = development_set.std(numeric_only=True)\n",
        "std_test_set = test_set.std(numeric_only=True)"
      ],
      "metadata": {
        "colab": {
          "base_uri": "https://localhost:8080/"
        },
        "id": "HppzRwvHHol5",
        "outputId": "586579c3-16c2-4dc7-ec83-fada7c134867"
      },
      "execution_count": 68,
      "outputs": [
        {
          "output_type": "stream",
          "name": "stdout",
          "text": [
            "Development Set:\n",
            "     sepal.length  sepal.width  petal.length  petal.width     variety\n",
            "66           5.6          3.0           4.5          1.5  Versicolor\n",
            "75           6.6          3.0           4.4          1.4  Versicolor\n",
            "39           5.1          3.4           1.5          0.2      Setosa\n",
            "34           4.9          3.1           1.5          0.2      Setosa\n",
            "95           5.7          3.0           4.2          1.2  Versicolor\n",
            "..           ...          ...           ...          ...         ...\n",
            "83           6.0          2.7           5.1          1.6  Versicolor\n",
            "9            4.9          3.1           1.5          0.1      Setosa\n",
            "40           5.0          3.5           1.3          0.3      Setosa\n",
            "60           5.0          2.0           3.5          1.0  Versicolor\n",
            "7            5.0          3.4           1.5          0.2      Setosa\n",
            "\n",
            "[112 rows x 5 columns] \n",
            "\n",
            "Test Set:\n",
            "      sepal.length  sepal.width  petal.length  petal.width     variety\n",
            "29            4.7          3.2           1.6          0.2      Setosa\n",
            "3             4.6          3.1           1.5          0.2      Setosa\n",
            "91            6.1          3.0           4.6          1.4  Versicolor\n",
            "109           7.2          3.6           6.1          2.5   Virginica\n",
            "44            5.1          3.8           1.9          0.4      Setosa\n",
            "137           6.4          3.1           5.5          1.8   Virginica\n",
            "112           6.8          3.0           5.5          2.1   Virginica\n",
            "38            4.4          3.0           1.3          0.2      Setosa\n",
            "10            5.4          3.7           1.5          0.2      Setosa\n",
            "24            4.8          3.4           1.9          0.2      Setosa\n",
            "35            5.0          3.2           1.2          0.2      Setosa\n",
            "94            5.6          2.7           4.2          1.3  Versicolor\n",
            "100           6.3          3.3           6.0          2.5   Virginica\n",
            "86            6.7          3.1           4.7          1.5  Versicolor\n",
            "0             5.1          3.5           1.4          0.2      Setosa\n",
            "61            5.9          3.0           4.2          1.5  Versicolor\n",
            "88            5.6          3.0           4.1          1.3  Versicolor\n",
            "106           4.9          2.5           4.5          1.7   Virginica\n",
            "143           6.8          3.2           5.9          2.3   Virginica\n",
            "67            5.8          2.7           4.1          1.0  Versicolor\n",
            "56            6.3          3.3           4.7          1.6  Versicolor\n",
            "36            5.5          3.5           1.3          0.2      Setosa\n",
            "133           6.3          2.8           5.1          1.5   Virginica\n",
            "121           5.6          2.8           4.9          2.0   Virginica\n",
            "76            6.8          2.8           4.8          1.4  Versicolor\n",
            "53            5.5          2.3           4.0          1.3  Versicolor\n",
            "71            6.1          2.8           4.0          1.3  Versicolor\n",
            "89            5.5          2.5           4.0          1.3  Versicolor\n",
            "30            4.8          3.1           1.6          0.2      Setosa\n",
            "113           5.7          2.5           5.0          2.0   Virginica\n",
            "17            5.1          3.5           1.4          0.3      Setosa\n",
            "12            4.8          3.0           1.4          0.1      Setosa\n",
            "14            5.8          4.0           1.2          0.2      Setosa\n",
            "114           5.8          2.8           5.1          2.4   Virginica\n",
            "70            5.9          3.2           4.8          1.8  Versicolor\n",
            "42            4.4          3.2           1.3          0.2      Setosa\n",
            "136           6.3          3.4           5.6          2.4   Virginica\n",
            "31            5.4          3.4           1.5          0.4      Setosa\n"
          ]
        }
      ]
    },
    {
      "cell_type": "markdown",
      "source": [
        "**Part b**\n"
      ],
      "metadata": {
        "id": "OeX1XQrmKafG"
      }
    },
    {
      "cell_type": "markdown",
      "source": [
        "Implement kNN using the following hyperparameters:\n",
        "\n",
        "\n",
        "number of neighbor\n",
        "\n",
        "    * 1,3,5,7\n",
        "distance metric\n",
        "\n",
        "    * euclidean distance\n",
        "    * normalized euclidean distance\n",
        "    * cosine similarity"
      ],
      "metadata": {
        "id": "VwOeZzzIKpxN"
      }
    },
    {
      "cell_type": "markdown",
      "source": [
        "Retrieving the 'class' column from the development and test sets and storing it in separate lists. Calculating the mean and standard deviation of the development set and test set for normalizing the data."
      ],
      "metadata": {
        "id": "l6UlA8vEO1P5"
      }
    },
    {
      "cell_type": "code",
      "source": [
        "test_class = list(test_set.iloc[:,-1])\n",
        "dev_class = list(development_set.iloc[:,-1])\n",
        "mean_development_set = development_set.mean(numeric_only=True)\n",
        "mean_test_set = test_set.mean(numeric_only=True)\n",
        "std_development_set = development_set.std(numeric_only=True)\n",
        "std_test_set = test_set.std(numeric_only=True)"
      ],
      "metadata": {
        "id": "1keyFG0QO4JD"
      },
      "execution_count": 69,
      "outputs": []
    },
    {
      "cell_type": "markdown",
      "source": [
        "Functions for computing the Euclidean Distance, Normalized Euclidean Distance, Cosine Similarity and k Nearest Neighbor to determine the 'class' for a given input instance.\n",
        "\n"
      ],
      "metadata": {
        "id": "ozlC2kMUPUfX"
      }
    },
    {
      "cell_type": "code",
      "source": [
        "def euclideanDistance(data_1, data_2, data_len):\n",
        "    dist = 0\n",
        "    for i in range(data_len):\n",
        "        dist = dist + np.square(data_1[i] - data_2[i])\n",
        "    return np.sqrt(dist)\n",
        "\n",
        "def normalizedEuclideanDistance(data_1, data_2, data_len, data_mean, data_std):\n",
        "    n_dist = 0\n",
        "    for i in range(data_len):\n",
        "        n_dist = n_dist + (np.square(((data_1[i] - data_mean[i])/data_std[i]) - ((data_2[i] - data_mean[i])/data_std[i])))\n",
        "    return np.sqrt(n_dist)\n",
        "\n",
        "def cosineSimilarity(data_1, data_2):\n",
        "    dot = np.dot(data_1, data_2[:-1])\n",
        "    norm_data_1 = np.linalg.norm(data_1)\n",
        "    norm_data_2 = np.linalg.norm(data_2[:-1])\n",
        "    cos = dot / (norm_data_1 * norm_data_2)\n",
        "    return (1-cos)\n",
        "\n",
        "def knn(dataset, testInstance, k, dist_method, dataset_mean, dataset_std): \n",
        "    distances = {}\n",
        "    length = testInstance.shape[1]\n",
        "    if dist_method == 'euclidean':\n",
        "        for x in range(len(dataset)):\n",
        "            dist_up = euclideanDistance(testInstance, dataset.iloc[x], length)\n",
        "            distances[x] = dist_up[0]\n",
        "    elif dist_method == 'normalized_euclidean':\n",
        "        for x in range(len(dataset)):\n",
        "            dist_up = normalizedEuclideanDistance(testInstance, dataset.iloc[x], length, dataset_mean, dataset_std)\n",
        "            distances[x] = dist_up[0]\n",
        "    elif dist_method == 'cosine':\n",
        "        for x in range(len(dataset)):\n",
        "            dist_up = cosineSimilarity(testInstance, dataset.iloc[x])\n",
        "            distances[x] = dist_up[0]\n",
        " # Sort values based on distance\n",
        "    sort_distances = sorted(distances.items(), key=operator.itemgetter(1))\n",
        "    neighbors = []\n",
        "    # Extracting nearest k neighbors\n",
        "    for x in range(k):\n",
        "        neighbors.append(sort_distances[x][0])\n",
        "    # Initializing counts for 'class' labels counts as 0\n",
        "    counts = {\"Iris-setosa\" : 0, \"Iris-versicolor\" : 0, \"Iris-virginica\" : 0}\n",
        "    # Computing the most frequent class\n",
        "    for x in range(len(neighbors)):\n",
        "        response = dataset.iloc[neighbors[x]][-1] \n",
        "        if response in counts:\n",
        "            counts[response] += 1\n",
        "        else:\n",
        "            counts[response] = 1\n",
        "    # Sorting the class in reverse order to get the most frequest class\n",
        "    sort_counts = sorted(counts.items(), key=operator.itemgetter(1), reverse=True)\n",
        "    return(sort_counts[0][0])"
      ],
      "metadata": {
        "id": "VRHRbd8EPVXn"
      },
      "execution_count": 70,
      "outputs": []
    },
    {
      "cell_type": "markdown",
      "source": [
        "**Part c**"
      ],
      "metadata": {
        "id": "5Ebdp1A0QFG-"
      }
    },
    {
      "cell_type": "markdown",
      "source": [
        "Using the development data set\n",
        "\n",
        "\n",
        "Iterating all of the development data points and computing the class for each k and each distance metric"
      ],
      "metadata": {
        "id": "kKHX6AoVQG1a"
      }
    },
    {
      "cell_type": "code",
      "source": [
        "print(development_set)\n"
      ],
      "metadata": {
        "colab": {
          "base_uri": "https://localhost:8080/"
        },
        "id": "Z6gMq04pUMEi",
        "outputId": "139701f5-8e1d-4760-abc5-6a9bf9dae276"
      },
      "execution_count": 71,
      "outputs": [
        {
          "output_type": "stream",
          "name": "stdout",
          "text": [
            "    sepal.length  sepal.width  petal.length  petal.width     variety\n",
            "66           5.6          3.0           4.5          1.5  Versicolor\n",
            "75           6.6          3.0           4.4          1.4  Versicolor\n",
            "39           5.1          3.4           1.5          0.2      Setosa\n",
            "34           4.9          3.1           1.5          0.2      Setosa\n",
            "95           5.7          3.0           4.2          1.2  Versicolor\n",
            "..           ...          ...           ...          ...         ...\n",
            "83           6.0          2.7           5.1          1.6  Versicolor\n",
            "9            4.9          3.1           1.5          0.1      Setosa\n",
            "40           5.0          3.5           1.3          0.3      Setosa\n",
            "60           5.0          2.0           3.5          1.0  Versicolor\n",
            "7            5.0          3.4           1.5          0.2      Setosa\n",
            "\n",
            "[112 rows x 5 columns]\n"
          ]
        }
      ]
    },
    {
      "cell_type": "code",
      "source": [
        "# Creating a list of list of all columns except 'class' by iterating through the development set\n",
        "row_list = []\n",
        "for index, rows in development_set.iterrows():\n",
        "  # print()\n",
        "  \n",
        "  # row_list.append(rows['sepal.length'])\n",
        "   my_list =[rows[\"sepal.length\"], rows[\"sepal.width\"], rows[\"petal.length\"], rows[\"petal.width\"]] \n",
        "   row_list.append([my_list])\n",
        "# k values for the number of neighbors that need to be considered\n",
        "k_n = [1, 3, 5, 7]\n",
        "# Distance metrics\n",
        "distance_methods = ['euclidean', 'normalized_euclidean', 'cosine']\n",
        "# Performing kNN on the development set by iterating all of the development set data points and for each k and each distance metric\n",
        "obs_k = {}\n",
        "for dist_method in distance_methods:\n",
        "    development_set_obs_k = {}\n",
        "    for k in k_n:\n",
        "        development_set_obs = []\n",
        "        for i in range(len(row_list)):\n",
        "            development_set_obs.append(knn(development_set, pd.DataFrame(row_list[i]), k, dist_method, mean_development_set, std_development_set))\n",
        "        development_set_obs_k[k] = development_set_obs\n",
        "    # Nested Dictionary containing the observed class for each k and each distance metric (obs_k of the form obs_k[dist_method][k])\n",
        "    obs_k[dist_method] = development_set_obs_k\n",
        "    print(dist_method.upper() + \" distance method performed on the dataset for all k values!\")"
      ],
      "metadata": {
        "colab": {
          "base_uri": "https://localhost:8080/"
        },
        "id": "dRBQbxcVQKKa",
        "outputId": "87b8db40-359f-476f-94fc-6852dcef8724"
      },
      "execution_count": 72,
      "outputs": [
        {
          "output_type": "stream",
          "name": "stdout",
          "text": [
            "EUCLIDEAN distance method performed on the dataset for all k values!\n",
            "NORMALIZED_EUCLIDEAN distance method performed on the dataset for all k values!\n",
            "COSINE distance method performed on the dataset for all k values!\n"
          ]
        }
      ]
    },
    {
      "cell_type": "markdown",
      "source": [
        "Computing the accuracy for the development data set and finding the optimal hyperparametes"
      ],
      "metadata": {
        "id": "kUfskTvzY7pi"
      }
    },
    {
      "cell_type": "code",
      "source": [
        "# Calculating the accuracy of the development set by comparing it with the development set 'class' list created earlier\n",
        "accuracy = {}\n",
        "for key in obs_k.keys():\n",
        "    accuracy[key] = {}\n",
        "    for k_value in obs_k[key].keys():\n",
        "        #print('k = ', key)\n",
        "        count = 0\n",
        "        for i,j in zip(dev_class, obs_k[key][k_value]):\n",
        "            if i == j:\n",
        "                count = count + 1\n",
        "            else:\n",
        "                pass\n",
        "        accuracy[key][k_value] = count/(len(dev_class))\n",
        "\n",
        "# Storing the accuracy for each k and each distance metric into a dataframe\n",
        "df_res = pd.DataFrame({'k': k_n})\n",
        "for key in accuracy.keys():\n",
        "    value = list(accuracy[key].values())\n",
        "    df_res[key] = value\n",
        "print(df_res)\n",
        "\n",
        "# Plotting a Bar Chart for accuracy\n",
        "draw = df_res.plot(x='k', y=['euclidean', 'normalized_euclidean', 'cosine'], kind=\"bar\", colormap='YlGnBu')\n",
        "draw.set(ylabel='Accuracy')\n",
        "\n",
        "# Ignoring k=1 if the value of accuracy for k=1 is 100%, since this mostly implies overfitting\n",
        "df_res.loc[df_res['k'] == 1.0, ['euclidean', 'normalized_euclidean', 'cosine']] = np.nan\n",
        "\n",
        "# Fetching the best k value for using all hyper-parameters\n",
        "# In case the accuracy is the same for different k and different distance metric selecting the first of all the same\n",
        "column_val = [c for c in df_res.columns if not c.startswith('k')]\n",
        "col_max = df_res[column_val].max().idxmax()\n",
        "best_dist_method = col_max\n",
        "row_max = df_res[col_max].argmax()\n",
        "best_k = int(df_res.iloc[row_max]['k'])\n",
        "if df_res.isnull().values.any():\n",
        "    print('\\n\\n\\nBest k value is\\033[1m', best_k, '\\033[0mand best distance metric is\\033[1m', best_dist_method, '\\033[0m. Ignoring k=1 if the value of accuracy for k=1 is 100%, since this mostly implies overfitting')\n",
        "else:\n",
        "    print('\\n\\n\\nBest k value is\\033[1m', best_k, '\\033[0mand best distance metric is\\033[1m', best_dist_method, '\\033[0m.')"
      ],
      "metadata": {
        "colab": {
          "base_uri": "https://localhost:8080/",
          "height": 438
        },
        "id": "QKMjteRJY8qZ",
        "outputId": "b753a06b-538a-4e3e-8fe2-d74e14ae3ca9"
      },
      "execution_count": 73,
      "outputs": [
        {
          "output_type": "stream",
          "name": "stdout",
          "text": [
            "   k  euclidean  normalized_euclidean    cosine\n",
            "0  1   1.000000              1.000000  1.000000\n",
            "1  3   0.973214              0.964286  0.973214\n",
            "2  5   0.964286              0.964286  0.964286\n",
            "3  7   0.973214              0.973214  0.973214\n",
            "\n",
            "\n",
            "\n",
            "Best k value is\u001b[1m 3 \u001b[0mand best distance metric is\u001b[1m euclidean \u001b[0m. Ignoring k=1 if the value of accuracy for k=1 is 100%, since this mostly implies overfitting\n"
          ]
        },
        {
          "output_type": "display_data",
          "data": {
            "text/plain": [
              "<Figure size 432x288 with 1 Axes>"
            ],
            "image/png": "[encoded data removed]"
          },
          "metadata": {
            "needs_background": "light"
          }
        }
      ]
    },
    {
      "cell_type": "markdown",
      "source": [
        "**Using the test dataset**"
      ],
      "metadata": {
        "id": "Me6DRtx7cDBr"
      }
    },
    {
      "cell_type": "code",
      "source": [
        "print('\\n\\n\\nBest k value is\\033[1m', best_k, '\\033[0mand best distance metric is\\033[1m', best_dist_method, '\\033[0m')"
      ],
      "metadata": {
        "colab": {
          "base_uri": "https://localhost:8080/"
        },
        "id": "71tVRm-YcI_8",
        "outputId": "980574d5-5081-4b79-d787-58525f527657"
      },
      "execution_count": 74,
      "outputs": [
        {
          "output_type": "stream",
          "name": "stdout",
          "text": [
            "\n",
            "\n",
            "\n",
            "Best k value is\u001b[1m 3 \u001b[0mand best distance metric is\u001b[1m euclidean \u001b[0m\n"
          ]
        }
      ]
    },
    {
      "cell_type": "markdown",
      "source": [
        "Using the best k value and best distance metric to determine the class for all rows in the test dataset"
      ],
      "metadata": {
        "id": "WiRwNn4pcQgK"
      }
    },
    {
      "cell_type": "code",
      "source": [
        "# Creating a list of list of all columns except 'class' by iterating through the development set\n",
        "row_list_test = []\n",
        "for index, rows in test_set.iterrows(): \n",
        "    my_list =[rows[\"sepal.length\"], rows[\"sepal.width\"], rows[\"petal.length\"], rows[\"petal.width\"]]       \n",
        "    row_list_test.append([my_list])\n",
        "test_set_obs = []\n",
        "for i in range(len(row_list_test)):\n",
        "    test_set_obs.append(knn(test_set, pd.DataFrame(row_list_test[i]), best_k, best_dist_method, mean_test_set, std_test_set))\n",
        "#print(test_set_obs)\n",
        "\n",
        "count = 0\n",
        "for i,j in zip(test_class, test_set_obs):\n",
        "    if i == j:\n",
        "        count = count + 1\n",
        "    else:\n",
        "        pass\n",
        "accuracy_test = count/(len(test_class))\n",
        "print('Final Accuracy of the Test dataset is ', accuracy_test)"
      ],
      "metadata": {
        "colab": {
          "base_uri": "https://localhost:8080/"
        },
        "id": "BhP1SVgTcRWV",
        "outputId": "236f437a-812c-4ae0-fa8c-711a4ef38e07"
      },
      "execution_count": 75,
      "outputs": [
        {
          "output_type": "stream",
          "name": "stdout",
          "text": [
            "Final Accuracy of the Test dataset is  0.9473684210526315\n"
          ]
        }
      ]
    },
    {
      "cell_type": "markdown",
      "source": [
        "**References**"
      ],
      "metadata": {
        "id": "1qKgzMO7crGA"
      }
    },
    {
      "cell_type": "markdown",
      "source": [
        "https://hc.labnet.sfbu.edu/~henry/sfbu/course//machine_learning_with_r_cookbook/practice_ml_with_r/slide/iris.html\n",
        "\n",
        "\n",
        "https://ai.plainenglish.io/understanding-confusion-matrix-and-applying-it-on-knn-classifier-on-iris-dataset-b57f85d05cd8\n",
        "\n",
        "https://stackoverflow.com/questions/16476924/how-to-iterate-over-rows-in-a-dataframe-in-pandas"
      ],
      "metadata": {
        "id": "a1GimS5ncvNj"
      }
    }
  ]
}